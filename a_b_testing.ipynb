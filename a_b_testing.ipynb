{
  "nbformat": 4,
  "nbformat_minor": 0,
  "metadata": {
    "colab": {
      "name": "a/b testing.ipynb",
      "provenance": [],
      "collapsed_sections": [],
      "authorship_tag": "ABX9TyMWhLAliycnFrsw52vk+r3N",
      "include_colab_link": true
    },
    "kernelspec": {
      "name": "python3",
      "display_name": "Python 3"
    }
  },
  "cells": [
    {
      "cell_type": "markdown",
      "metadata": {
        "id": "view-in-github",
        "colab_type": "text"
      },
      "source": [
        "<a href=\"https://colab.research.google.com/github/yadavneha22/FDS_LABwork/blob/main/a_b_testing.ipynb\" target=\"_parent\"><img src=\"https://colab.research.google.com/assets/colab-badge.svg\" alt=\"Open In Colab\"/></a>"
      ]
    },
    {
      "cell_type": "markdown",
      "metadata": {
        "id": "qwv3tg25dpFS"
      },
      "source": [
        "A/B testing has the ability to teach data scientists valuable lessons that both enhance understanding of audiences and underlying data sets, but also help focus on core use cases through methodical design of experiments.\r\n",
        "A/B testing has the ability to teach data scientists valuable lessons that both enhance understanding of audiences and underlying data sets, but also help focus on core use cases through methodical design of experiments.\r\n",
        "For instance, let’s say you own a company and want to increase the sales of your product. Here, either you can use random experiments, or you can apply scientific and statistical methods. A/B testing is one of the most prominent and widely used statistical tools."
      ]
    },
    {
      "cell_type": "code",
      "metadata": {
        "id": "34ROD9ZmUlCM"
      },
      "source": [
        " %matplotlib inline\n",
        " \n",
        "from pathlib import Path\n",
        "import random \n",
        "import pandas as pd\n",
        "import numpy as np\n",
        "import matplotlib.pylab as plt"
      ],
      "execution_count": 27,
      "outputs": []
    },
    {
      "cell_type": "code",
      "metadata": {
        "id": "zrRrEK74cK_F"
      },
      "source": [
        "try:\r\n",
        "    import common\r\n",
        "    DATA = common.dataDirectory()\r\n",
        "except ImportError:\r\n",
        "    DATA = Path().resolve() / 'data'"
      ],
      "execution_count": 9,
      "outputs": []
    },
    {
      "cell_type": "markdown",
      "metadata": {
        "id": "OmKLQNMNevqx"
      },
      "source": [
        "here we use web_page_data.csv dataset"
      ]
    },
    {
      "cell_type": "code",
      "metadata": {
        "id": "o9qHyKpncQcP"
      },
      "source": [
        "WEB_PAGE_DATA_CSV = DATA / '/content/web_page_data.csv'"
      ],
      "execution_count": 15,
      "outputs": []
    },
    {
      "cell_type": "code",
      "metadata": {
        "id": "FLtl0sroVOPz"
      },
      "source": [
        "session_times = pd.read_csv('/content/web_page_data.csv')\n",
        "session_times.Time = 100 * session_times.Time"
      ],
      "execution_count": 16,
      "outputs": []
    },
    {
      "cell_type": "code",
      "metadata": {
        "id": "OGRvMFu0VPIO",
        "colab": {
          "base_uri": "https://localhost:8080/",
          "height": 351
        },
        "outputId": "c4fc81ca-3c83-43a1-f5d0-047c8c03e9ff"
      },
      "source": [
        " ax = session_times.boxplot(by='Page', column='Time',\n",
        "                           figsize=(4, 4))\n",
        "ax.set_xlabel('')\n",
        "ax.set_ylabel('Time (in seconds)')\n",
        "plt.suptitle('')\n",
        " \n",
        "plt.tight_layout()\n",
        "plt.show()"
      ],
      "execution_count": 17,
      "outputs": [
        {
          "output_type": "stream",
          "text": [
            "/usr/local/lib/python3.7/dist-packages/numpy/core/_asarray.py:83: VisibleDeprecationWarning: Creating an ndarray from ragged nested sequences (which is a list-or-tuple of lists-or-tuples-or ndarrays with different lengths or shapes) is deprecated. If you meant to do this, you must specify 'dtype=object' when creating the ndarray\n",
            "  return array(a, dtype, copy=False, order=order)\n"
          ],
          "name": "stderr"
        },
        {
          "output_type": "display_data",
          "data": {
            "image/png": "[encoded data removed]",
            "text/plain": [
              "<Figure size 288x288 with 1 Axes>"
            ]
          },
          "metadata": {
            "tags": [],
            "needs_background": "light"
          }
        }
      ]
    },
    {
      "cell_type": "code",
      "metadata": {
        "id": "3rFdQ5wWVX6n",
        "colab": {
          "base_uri": "https://localhost:8080/"
        },
        "outputId": "f5297de3-960f-4bf6-d55e-d9bbd9eacba7"
      },
      "source": [
        " mean_a = session_times[session_times.Page == 'Page A'].Time.mean()\n",
        "mean_b = session_times[session_times.Page == 'Page B'].Time.mean()\n",
        "print(mean_b - mean_a)"
      ],
      "execution_count": 28,
      "outputs": [
        {
          "output_type": "stream",
          "text": [
            "35.66666666666667\n"
          ],
          "name": "stdout"
        }
      ]
    },
    {
      "cell_type": "code",
      "metadata": {
        "id": "e9mWzAr1Vhd9",
        "colab": {
          "base_uri": "https://localhost:8080/"
        },
        "outputId": "a5473497-eac8-4bb4-e58c-100b190052bf"
      },
      "source": [
        " # Permutation test example with stickiness\n",
        "def perm_fun(x, nA, nB):\n",
        "    n = nA + nB\n",
        "    idx_B = set(random.sample(range(n), nB))\n",
        "    idx_A = set(range(n)) - idx_B\n",
        "    return x.loc[idx_B].mean() - x.loc[idx_A].mean()\n",
        "    \n",
        "nA = session_times[session_times.Page == 'Page A'].shape[0]\n",
        "nB = session_times[session_times.Page == 'Page B'].shape[0]\n",
        "print(perm_fun(session_times.Time, nA, nB))"
      ],
      "execution_count": 29,
      "outputs": [
        {
          "output_type": "stream",
          "text": [
            "35.09523809523809\n"
          ],
          "name": "stdout"
        }
      ]
    },
    {
      "cell_type": "code",
      "metadata": {
        "id": "bP8zm2nGVoVI",
        "colab": {
          "base_uri": "https://localhost:8080/",
          "height": 369
        },
        "outputId": "235041e8-b2c6-4297-c3fe-2a45cbabdfc1"
      },
      "source": [
        " random.seed(1)\n",
        "perm_diffs = [perm_fun(session_times.Time, nA, nB) for _ in range(1000)]\n",
        " \n",
        "fig, ax = plt.subplots(figsize=(5, 5))\n",
        "ax.hist(perm_diffs, bins=11, rwidth=0.9)\n",
        "ax.axvline(x = mean_b - mean_a, color='black', lw=2)\n",
        "ax.text(50, 190, 'Observed\\ndifference', bbox={'facecolor':'white'})\n",
        "ax.set_xlabel('Session time differences (in seconds)')\n",
        "ax.set_ylabel('Frequency')\n",
        " \n",
        "plt.tight_layout()\n",
        "plt.show()"
      ],
      "execution_count": 30,
      "outputs": [
        {
          "output_type": "display_data",
          "data": {
            "image/png": "[encoded data removed]",
            "text/plain": [
              "<Figure size 360x360 with 1 Axes>"
            ]
          },
          "metadata": {
            "tags": [],
            "needs_background": "light"
          }
        }
      ]
    },
    {
      "cell_type": "markdown",
      "metadata": {
        "id": "3XDEH0iViWTM"
      },
      "source": [
        "2.For this project, you will be working to understand the results of an A/B test run by an e-commerce website. Your goal is to work through this notebook to help the company understand if they should implement the new page, keep the old page, or perhaps run the experiment longer to make their decision.\r\n",
        "\r\n",
        "\r\n"
      ]
    },
    {
      "cell_type": "code",
      "metadata": {
        "id": "AQmhQOKBgc_f"
      },
      "source": [
        "df = pd.read_csv('/content/ab_data.csv')"
      ],
      "execution_count": 35,
      "outputs": []
    },
    {
      "cell_type": "markdown",
      "metadata": {
        "id": "ImWy4lY0ntvD"
      },
      "source": [
        "For now, consider you need to make the decision just based on all the data provided. If you want to assume that the old page is better unless the new page proves to be definitely better at a Type I error rate of 5%, what should your null and alternative hypotheses be? You can state your hypothesis in terms of words or in terms of $p_{old}$ and $p_{new}$, which are the converted rates for the old and new pages.\r\n",
        "\r\n",
        "Null Hypothesis: The probability of old page better than new page is greater or equal to probability of new page.\r\n",
        "\r\n",
        "Alternative Hypothesis: The probability of new page being better than new page is less than that of a new page.\r\n"
      ]
    },
    {
      "cell_type": "code",
      "metadata": {
        "colab": {
          "base_uri": "https://localhost:8080/"
        },
        "id": "Q_rVHk6XicMB",
        "outputId": "4b2b4c56-ae89-41e2-bc4c-927bebf13cf5"
      },
      "source": [
        "df.info()\r\n"
      ],
      "execution_count": 36,
      "outputs": [
        {
          "output_type": "stream",
          "text": [
            "<class 'pandas.core.frame.DataFrame'>\n",
            "RangeIndex: 233014 entries, 0 to 233013\n",
            "Data columns (total 5 columns):\n",
            " #   Column        Non-Null Count   Dtype  \n",
            "---  ------        --------------   -----  \n",
            " 0   user_id       233014 non-null  int64  \n",
            " 1   timestamp     233014 non-null  object \n",
            " 2   group         233014 non-null  object \n",
            " 3   landing_page  233013 non-null  object \n",
            " 4   converted     233013 non-null  float64\n",
            "dtypes: float64(1), int64(1), object(3)\n",
            "memory usage: 8.9+ MB\n"
          ],
          "name": "stdout"
        }
      ]
    },
    {
      "cell_type": "code",
      "metadata": {
        "id": "N6nQYOatmUxk"
      },
      "source": [
        "df2 = df.drop(df[((df.landing_page == 'new_page') & (df.group != 'treatment')) | ((df.landing_page != 'new_page') & (df.group == 'treatment'))].index)"
      ],
      "execution_count": 59,
      "outputs": []
    },
    {
      "cell_type": "code",
      "metadata": {
        "colab": {
          "base_uri": "https://localhost:8080/"
        },
        "id": "K-luElTSi6hx",
        "outputId": "452601f7-ac1b-42b5-a59e-647405aa5eea"
      },
      "source": [
        "#check for info\r\n",
        "df2.info()"
      ],
      "execution_count": 60,
      "outputs": [
        {
          "output_type": "stream",
          "text": [
            "<class 'pandas.core.frame.DataFrame'>\n",
            "Int64Index: 229934 entries, 0 to 233013\n",
            "Data columns (total 5 columns):\n",
            " #   Column        Non-Null Count   Dtype  \n",
            "---  ------        --------------   -----  \n",
            " 0   user_id       229934 non-null  int64  \n",
            " 1   timestamp     229934 non-null  object \n",
            " 2   group         229934 non-null  object \n",
            " 3   landing_page  229933 non-null  object \n",
            " 4   converted     229933 non-null  float64\n",
            "dtypes: float64(1), int64(1), object(3)\n",
            "memory usage: 10.5+ MB\n"
          ],
          "name": "stdout"
        }
      ]
    },
    {
      "cell_type": "code",
      "metadata": {
        "colab": {
          "base_uri": "https://localhost:8080/"
        },
        "id": "LbfmFj53jL_3",
        "outputId": "c0bf0b1b-3120-400d-dfc5-21566dc07c9f"
      },
      "source": [
        "# convert rate is how many users converted (i.e. converted = 1)\r\n",
        "p_new = df2.converted.mean()\r\n",
        "p_new"
      ],
      "execution_count": 65,
      "outputs": [
        {
          "output_type": "execute_result",
          "data": {
            "text/plain": [
              "0.11962615196600748"
            ]
          },
          "metadata": {
            "tags": []
          },
          "execution_count": 65
        }
      ]
    },
    {
      "cell_type": "code",
      "metadata": {
        "colab": {
          "base_uri": "https://localhost:8080/"
        },
        "id": "NUrza_rqjfoI",
        "outputId": "89e5430b-0098-45c7-98c8-7c24bb2227e5"
      },
      "source": [
        "p_old = df2.converted.mean() # the same!!!\r\n",
        "p_old"
      ],
      "execution_count": 66,
      "outputs": [
        {
          "output_type": "execute_result",
          "data": {
            "text/plain": [
              "0.11962615196600748"
            ]
          },
          "metadata": {
            "tags": []
          },
          "execution_count": 66
        }
      ]
    },
    {
      "cell_type": "code",
      "metadata": {
        "colab": {
          "base_uri": "https://localhost:8080/"
        },
        "id": "A82AZLFdjmRI",
        "outputId": "099714ee-3a47-4f5e-b6c9-ecce9cedbe50"
      },
      "source": [
        "# number of users who got the new page (i.e. group = treatment)\r\n",
        "n_new = df2[df2.group == 'treatment'].count()[0]\r\n",
        "n_new"
      ],
      "execution_count": 67,
      "outputs": [
        {
          "output_type": "execute_result",
          "data": {
            "text/plain": [
              "115006"
            ]
          },
          "metadata": {
            "tags": []
          },
          "execution_count": 67
        }
      ]
    },
    {
      "cell_type": "code",
      "metadata": {
        "colab": {
          "base_uri": "https://localhost:8080/"
        },
        "id": "Ci2d0kKTjp2j",
        "outputId": "b5ce1c91-dc6d-41d1-9a04-3ee72c156038"
      },
      "source": [
        "# number of users who reamined with old page (i.e. group = control)\r\n",
        "n_old = df2[df2.group == 'control'].count()[0]\r\n",
        "n_old"
      ],
      "execution_count": 68,
      "outputs": [
        {
          "output_type": "execute_result",
          "data": {
            "text/plain": [
              "114928"
            ]
          },
          "metadata": {
            "tags": []
          },
          "execution_count": 68
        }
      ]
    },
    {
      "cell_type": "code",
      "metadata": {
        "colab": {
          "base_uri": "https://localhost:8080/"
        },
        "id": "KkrprRqGjt2W",
        "outputId": "8f664d1e-c7cb-4a03-b375-f6c68e141e49"
      },
      "source": [
        "# simulating n_new transaction that have probabiliy of receiving new page, using binomial gives the outout as the number of 1's\r\n",
        "new_converted_simulation = np.random.binomial(n_new, p_new, 10000)/n_new\r\n",
        "new_converted_simulation.mean()"
      ],
      "execution_count": 50,
      "outputs": [
        {
          "output_type": "execute_result",
          "data": {
            "text/plain": [
              "0.11962762812375007"
            ]
          },
          "metadata": {
            "tags": []
          },
          "execution_count": 50
        }
      ]
    },
    {
      "cell_type": "code",
      "metadata": {
        "colab": {
          "base_uri": "https://localhost:8080/"
        },
        "id": "_EpFqW31jzJR",
        "outputId": "a1f2e17b-b60c-450c-978c-c785a62fbba9"
      },
      "source": [
        "# simulating n_new transaction that have probabiliy of having old page, using binomial gives the outout as the number of 1's\r\n",
        "old_converted_simulation = np.random.binomial(n_old, p_old, 10000)/n_old\r\n",
        "old_converted_simulation.mean()"
      ],
      "execution_count": 70,
      "outputs": [
        {
          "output_type": "execute_result",
          "data": {
            "text/plain": [
              "0.11962186238340528"
            ]
          },
          "metadata": {
            "tags": []
          },
          "execution_count": 70
        }
      ]
    },
    {
      "cell_type": "code",
      "metadata": {
        "colab": {
          "base_uri": "https://localhost:8080/"
        },
        "id": "g27Egqqhj_3J",
        "outputId": "d78eda58-4c91-4283-a896-a22075119134"
      },
      "source": [
        "# probabilty of new and old page based upon simulated values in e. and f.\r\n",
        "new_converted_simulation.mean() - old_converted_simulation.mean()\r\n"
      ],
      "execution_count": 54,
      "outputs": [
        {
          "output_type": "execute_result",
          "data": {
            "text/plain": [
              "-1.1607745663833047e-05"
            ]
          },
          "metadata": {
            "tags": []
          },
          "execution_count": 54
        }
      ]
    },
    {
      "cell_type": "code",
      "metadata": {
        "id": "fjbv7p2_kGUy"
      },
      "source": [
        "# alternatively\r\n",
        "p_diffs_alt = new_converted_simulation - old_converted_simulation"
      ],
      "execution_count": 71,
      "outputs": []
    },
    {
      "cell_type": "code",
      "metadata": {
        "colab": {
          "base_uri": "https://localhost:8080/",
          "height": 265
        },
        "id": "-g_wP5u3lNcd",
        "outputId": "07b03f59-739c-482e-e810-b5d84bd32856"
      },
      "source": [
        "# alternatively\r\n",
        "# histogram\r\n",
        "plt.hist(p_diffs_alt)\r\n",
        "plt.grid()\r\n",
        "plt.axvline(p_diffs_alt.mean(), color='r', label='mean')\r\n",
        "plt.legend();"
      ],
      "execution_count": 58,
      "outputs": [
        {
          "output_type": "display_data",
          "data": {
            "image/png": "[encoded data removed]",
            "text/plain": [
              "<Figure size 432x288 with 1 Axes>"
            ]
          },
          "metadata": {
            "tags": [],
            "needs_background": "light"
          }
        }
      ]
    }
  ]
}