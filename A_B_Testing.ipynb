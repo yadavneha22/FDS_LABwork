{
  "nbformat": 4,
  "nbformat_minor": 0,
  "metadata": {
    "colab": {
      "name": "A/B Testing.ipynb",
      "provenance": [],
      "collapsed_sections": [],
      "authorship_tag": "ABX9TyPYnS79n6bsae1SKgIjp1+4",
      "include_colab_link": true
    },
    "kernelspec": {
      "name": "python3",
      "display_name": "Python 3"
    }
  },
  "cells": [
    {
      "cell_type": "markdown",
      "metadata": {
        "id": "view-in-github",
        "colab_type": "text"
      },
      "source": [
        "<a href=\"https://colab.research.google.com/github/yadavneha22/FDS_LABwork/blob/main/A_B_Testing.ipynb\" target=\"_parent\"><img src=\"https://colab.research.google.com/assets/colab-badge.svg\" alt=\"Open In Colab\"/></a>"
      ]
    },
    {
      "cell_type": "markdown",
      "metadata": {
        "id": "7Th5ncsOgFlT"
      },
      "source": [
        "\r\n",
        "\r\n",
        "```\r\n",
        "# A/B testing is a user experience research methodology.A/B tests consist of a randomized experiment with two variants, A and B. It includes application of statistical hypothesis testing or \"two-sample hypothesis testing\" as used in the field of statistics. A/B testing is a way to compare two versions of a single variable, typically by testing a subject's response to variant A against variant B, and determining which of the two variants is more effective.\r\n",
        "A/B tests are useful for understanding user engagement and satisfaction of online features, such as a new feature or product. Large social media sites like LinkedIn, Facebook, and Instagram use A/B testing to make user experiences more successful and as a way to streamline their services.\r\n",
        "\r\n",
        "Version A might be the currently used version (control), while version B is modified in some respect (treatment). For instance, on an e-commerce website the purchase funnel is typically a good candidate for A/B testing, as even marginal decreases in drop-off rates can represent a significant gain in sales. Significant improvements can sometimes be seen through testing elements like copy text, layouts, images and colors,[9] but not always. In these tests, users only see one of two versions, as the goal is to discover which of the two versions is preferable.\r\n",
        "```\r\n",
        "\r\n"
      ]
    },
    {
      "cell_type": "code",
      "metadata": {
        "id": "ujRtuZdwe71M"
      },
      "source": [
        "import pandas as pd\r\n",
        "\r\n",
        "control_data = pd.read_csv('/content/control_data.csv')\r\n",
        "experiment_data = pd.read_csv('/content/experiment_data.csv')"
      ],
      "execution_count": 4,
      "outputs": []
    },
    {
      "cell_type": "code",
      "metadata": {
        "colab": {
          "base_uri": "https://localhost:8080/",
          "height": 204
        },
        "id": "BNxWYCzHf3hF",
        "outputId": "a557c83c-418f-4e32-c974-648d708513c6"
      },
      "source": [
        "control_data.head()"
      ],
      "execution_count": 5,
      "outputs": [
        {
          "output_type": "execute_result",
          "data": {
            "text/html": [
              "<div>\n",
              "<style scoped>\n",
              "    .dataframe tbody tr th:only-of-type {\n",
              "        vertical-align: middle;\n",
              "    }\n",
              "\n",
              "    .dataframe tbody tr th {\n",
              "        vertical-align: top;\n",
              "    }\n",
              "\n",
              "    .dataframe thead th {\n",
              "        text-align: right;\n",
              "    }\n",
              "</style>\n",
              "<table border=\"1\" class=\"dataframe\">\n",
              "  <thead>\n",
              "    <tr style=\"text-align: right;\">\n",
              "      <th></th>\n",
              "      <th>Date</th>\n",
              "      <th>Pageviews</th>\n",
              "      <th>Clicks</th>\n",
              "      <th>Enrollments</th>\n",
              "      <th>Payments</th>\n",
              "    </tr>\n",
              "  </thead>\n",
              "  <tbody>\n",
              "    <tr>\n",
              "      <th>0</th>\n",
              "      <td>Sat, Oct 11</td>\n",
              "      <td>7723</td>\n",
              "      <td>687</td>\n",
              "      <td>134.0</td>\n",
              "      <td>70.0</td>\n",
              "    </tr>\n",
              "    <tr>\n",
              "      <th>1</th>\n",
              "      <td>Sun, Oct 12</td>\n",
              "      <td>9102</td>\n",
              "      <td>779</td>\n",
              "      <td>147.0</td>\n",
              "      <td>70.0</td>\n",
              "    </tr>\n",
              "    <tr>\n",
              "      <th>2</th>\n",
              "      <td>Mon, Oct 13</td>\n",
              "      <td>10511</td>\n",
              "      <td>909</td>\n",
              "      <td>167.0</td>\n",
              "      <td>95.0</td>\n",
              "    </tr>\n",
              "    <tr>\n",
              "      <th>3</th>\n",
              "      <td>Tue, Oct 14</td>\n",
              "      <td>9871</td>\n",
              "      <td>836</td>\n",
              "      <td>156.0</td>\n",
              "      <td>105.0</td>\n",
              "    </tr>\n",
              "    <tr>\n",
              "      <th>4</th>\n",
              "      <td>Wed, Oct 15</td>\n",
              "      <td>10014</td>\n",
              "      <td>837</td>\n",
              "      <td>163.0</td>\n",
              "      <td>64.0</td>\n",
              "    </tr>\n",
              "  </tbody>\n",
              "</table>\n",
              "</div>"
            ],
            "text/plain": [
              "          Date  Pageviews  Clicks  Enrollments  Payments\n",
              "0  Sat, Oct 11       7723     687        134.0      70.0\n",
              "1  Sun, Oct 12       9102     779        147.0      70.0\n",
              "2  Mon, Oct 13      10511     909        167.0      95.0\n",
              "3  Tue, Oct 14       9871     836        156.0     105.0\n",
              "4  Wed, Oct 15      10014     837        163.0      64.0"
            ]
          },
          "metadata": {
            "tags": []
          },
          "execution_count": 5
        }
      ]
    },
    {
      "cell_type": "code",
      "metadata": {
        "colab": {
          "base_uri": "https://localhost:8080/",
          "height": 204
        },
        "id": "r_RFE1_PgLRY",
        "outputId": "64371042-45bb-43be-c867-d475a9caa973"
      },
      "source": [
        "experiment_data.head()"
      ],
      "execution_count": 6,
      "outputs": [
        {
          "output_type": "execute_result",
          "data": {
            "text/html": [
              "<div>\n",
              "<style scoped>\n",
              "    .dataframe tbody tr th:only-of-type {\n",
              "        vertical-align: middle;\n",
              "    }\n",
              "\n",
              "    .dataframe tbody tr th {\n",
              "        vertical-align: top;\n",
              "    }\n",
              "\n",
              "    .dataframe thead th {\n",
              "        text-align: right;\n",
              "    }\n",
              "</style>\n",
              "<table border=\"1\" class=\"dataframe\">\n",
              "  <thead>\n",
              "    <tr style=\"text-align: right;\">\n",
              "      <th></th>\n",
              "      <th>Date</th>\n",
              "      <th>Pageviews</th>\n",
              "      <th>Clicks</th>\n",
              "      <th>Enrollments</th>\n",
              "      <th>Payments</th>\n",
              "    </tr>\n",
              "  </thead>\n",
              "  <tbody>\n",
              "    <tr>\n",
              "      <th>0</th>\n",
              "      <td>Sat, Oct 11</td>\n",
              "      <td>7716</td>\n",
              "      <td>686</td>\n",
              "      <td>105.0</td>\n",
              "      <td>34.0</td>\n",
              "    </tr>\n",
              "    <tr>\n",
              "      <th>1</th>\n",
              "      <td>Sun, Oct 12</td>\n",
              "      <td>9288</td>\n",
              "      <td>785</td>\n",
              "      <td>116.0</td>\n",
              "      <td>91.0</td>\n",
              "    </tr>\n",
              "    <tr>\n",
              "      <th>2</th>\n",
              "      <td>Mon, Oct 13</td>\n",
              "      <td>10480</td>\n",
              "      <td>884</td>\n",
              "      <td>145.0</td>\n",
              "      <td>79.0</td>\n",
              "    </tr>\n",
              "    <tr>\n",
              "      <th>3</th>\n",
              "      <td>Tue, Oct 14</td>\n",
              "      <td>9867</td>\n",
              "      <td>827</td>\n",
              "      <td>138.0</td>\n",
              "      <td>92.0</td>\n",
              "    </tr>\n",
              "    <tr>\n",
              "      <th>4</th>\n",
              "      <td>Wed, Oct 15</td>\n",
              "      <td>9793</td>\n",
              "      <td>832</td>\n",
              "      <td>140.0</td>\n",
              "      <td>94.0</td>\n",
              "    </tr>\n",
              "  </tbody>\n",
              "</table>\n",
              "</div>"
            ],
            "text/plain": [
              "          Date  Pageviews  Clicks  Enrollments  Payments\n",
              "0  Sat, Oct 11       7716     686        105.0      34.0\n",
              "1  Sun, Oct 12       9288     785        116.0      91.0\n",
              "2  Mon, Oct 13      10480     884        145.0      79.0\n",
              "3  Tue, Oct 14       9867     827        138.0      92.0\n",
              "4  Wed, Oct 15       9793     832        140.0      94.0"
            ]
          },
          "metadata": {
            "tags": []
          },
          "execution_count": 6
        }
      ]
    },
    {
      "cell_type": "code",
      "metadata": {
        "colab": {
          "base_uri": "https://localhost:8080/"
        },
        "id": "hjka9bkwgONF",
        "outputId": "406f9d4f-cf67-4fcf-8194-d2f849377c3c"
      },
      "source": [
        "control_data.info()"
      ],
      "execution_count": 7,
      "outputs": [
        {
          "output_type": "stream",
          "text": [
            "<class 'pandas.core.frame.DataFrame'>\n",
            "RangeIndex: 37 entries, 0 to 36\n",
            "Data columns (total 5 columns):\n",
            " #   Column       Non-Null Count  Dtype  \n",
            "---  ------       --------------  -----  \n",
            " 0   Date         37 non-null     object \n",
            " 1   Pageviews    37 non-null     int64  \n",
            " 2   Clicks       37 non-null     int64  \n",
            " 3   Enrollments  23 non-null     float64\n",
            " 4   Payments     23 non-null     float64\n",
            "dtypes: float64(2), int64(2), object(1)\n",
            "memory usage: 1.6+ KB\n"
          ],
          "name": "stdout"
        }
      ]
    },
    {
      "cell_type": "code",
      "metadata": {
        "colab": {
          "base_uri": "https://localhost:8080/"
        },
        "id": "JQnEwyS2gS-Q",
        "outputId": "77a9d6c5-c542-4856-d530-8be66bf3553a"
      },
      "source": [
        "experiment_data.info()"
      ],
      "execution_count": 8,
      "outputs": [
        {
          "output_type": "stream",
          "text": [
            "<class 'pandas.core.frame.DataFrame'>\n",
            "RangeIndex: 37 entries, 0 to 36\n",
            "Data columns (total 5 columns):\n",
            " #   Column       Non-Null Count  Dtype  \n",
            "---  ------       --------------  -----  \n",
            " 0   Date         37 non-null     object \n",
            " 1   Pageviews    37 non-null     int64  \n",
            " 2   Clicks       37 non-null     int64  \n",
            " 3   Enrollments  23 non-null     float64\n",
            " 4   Payments     23 non-null     float64\n",
            "dtypes: float64(2), int64(2), object(1)\n",
            "memory usage: 1.6+ KB\n"
          ],
          "name": "stdout"
        }
      ]
    },
    {
      "cell_type": "code",
      "metadata": {
        "colab": {
          "base_uri": "https://localhost:8080/"
        },
        "id": "pkGYDL2YgT8e",
        "outputId": "40e6e355-82e2-4d6a-a522-b5b330c242a0"
      },
      "source": [
        "control_data.isna().sum()"
      ],
      "execution_count": 9,
      "outputs": [
        {
          "output_type": "execute_result",
          "data": {
            "text/plain": [
              "Date            0\n",
              "Pageviews       0\n",
              "Clicks          0\n",
              "Enrollments    14\n",
              "Payments       14\n",
              "dtype: int64"
            ]
          },
          "metadata": {
            "tags": []
          },
          "execution_count": 9
        }
      ]
    },
    {
      "cell_type": "code",
      "metadata": {
        "colab": {
          "base_uri": "https://localhost:8080/"
        },
        "id": "xpIPckNMgWQ5",
        "outputId": "fa8154d7-5764-4f0e-d3cf-0d2102f15a41"
      },
      "source": [
        "experiment_data.isna().sum()"
      ],
      "execution_count": 10,
      "outputs": [
        {
          "output_type": "execute_result",
          "data": {
            "text/plain": [
              "Date            0\n",
              "Pageviews       0\n",
              "Clicks          0\n",
              "Enrollments    14\n",
              "Payments       14\n",
              "dtype: int64"
            ]
          },
          "metadata": {
            "tags": []
          },
          "execution_count": 10
        }
      ]
    },
    {
      "cell_type": "code",
      "metadata": {
        "colab": {
          "base_uri": "https://localhost:8080/",
          "height": 483
        },
        "id": "GbYeJBnEgks-",
        "outputId": "eb946ca1-0856-4925-fe74-2125966e1add"
      },
      "source": [
        "control_data[control_data['Enrollments'].isna()]"
      ],
      "execution_count": 11,
      "outputs": [
        {
          "output_type": "execute_result",
          "data": {
            "text/html": [
              "<div>\n",
              "<style scoped>\n",
              "    .dataframe tbody tr th:only-of-type {\n",
              "        vertical-align: middle;\n",
              "    }\n",
              "\n",
              "    .dataframe tbody tr th {\n",
              "        vertical-align: top;\n",
              "    }\n",
              "\n",
              "    .dataframe thead th {\n",
              "        text-align: right;\n",
              "    }\n",
              "</style>\n",
              "<table border=\"1\" class=\"dataframe\">\n",
              "  <thead>\n",
              "    <tr style=\"text-align: right;\">\n",
              "      <th></th>\n",
              "      <th>Date</th>\n",
              "      <th>Pageviews</th>\n",
              "      <th>Clicks</th>\n",
              "      <th>Enrollments</th>\n",
              "      <th>Payments</th>\n",
              "    </tr>\n",
              "  </thead>\n",
              "  <tbody>\n",
              "    <tr>\n",
              "      <th>23</th>\n",
              "      <td>Mon, Nov 3</td>\n",
              "      <td>9437</td>\n",
              "      <td>788</td>\n",
              "      <td>NaN</td>\n",
              "      <td>NaN</td>\n",
              "    </tr>\n",
              "    <tr>\n",
              "      <th>24</th>\n",
              "      <td>Tue, Nov 4</td>\n",
              "      <td>9420</td>\n",
              "      <td>781</td>\n",
              "      <td>NaN</td>\n",
              "      <td>NaN</td>\n",
              "    </tr>\n",
              "    <tr>\n",
              "      <th>25</th>\n",
              "      <td>Wed, Nov 5</td>\n",
              "      <td>9570</td>\n",
              "      <td>805</td>\n",
              "      <td>NaN</td>\n",
              "      <td>NaN</td>\n",
              "    </tr>\n",
              "    <tr>\n",
              "      <th>26</th>\n",
              "      <td>Thu, Nov 6</td>\n",
              "      <td>9921</td>\n",
              "      <td>830</td>\n",
              "      <td>NaN</td>\n",
              "      <td>NaN</td>\n",
              "    </tr>\n",
              "    <tr>\n",
              "      <th>27</th>\n",
              "      <td>Fri, Nov 7</td>\n",
              "      <td>9424</td>\n",
              "      <td>781</td>\n",
              "      <td>NaN</td>\n",
              "      <td>NaN</td>\n",
              "    </tr>\n",
              "    <tr>\n",
              "      <th>28</th>\n",
              "      <td>Sat, Nov 8</td>\n",
              "      <td>9010</td>\n",
              "      <td>756</td>\n",
              "      <td>NaN</td>\n",
              "      <td>NaN</td>\n",
              "    </tr>\n",
              "    <tr>\n",
              "      <th>29</th>\n",
              "      <td>Sun, Nov 9</td>\n",
              "      <td>9656</td>\n",
              "      <td>825</td>\n",
              "      <td>NaN</td>\n",
              "      <td>NaN</td>\n",
              "    </tr>\n",
              "    <tr>\n",
              "      <th>30</th>\n",
              "      <td>Mon, Nov 10</td>\n",
              "      <td>10419</td>\n",
              "      <td>874</td>\n",
              "      <td>NaN</td>\n",
              "      <td>NaN</td>\n",
              "    </tr>\n",
              "    <tr>\n",
              "      <th>31</th>\n",
              "      <td>Tue, Nov 11</td>\n",
              "      <td>9880</td>\n",
              "      <td>830</td>\n",
              "      <td>NaN</td>\n",
              "      <td>NaN</td>\n",
              "    </tr>\n",
              "    <tr>\n",
              "      <th>32</th>\n",
              "      <td>Wed, Nov 12</td>\n",
              "      <td>10134</td>\n",
              "      <td>801</td>\n",
              "      <td>NaN</td>\n",
              "      <td>NaN</td>\n",
              "    </tr>\n",
              "    <tr>\n",
              "      <th>33</th>\n",
              "      <td>Thu, Nov 13</td>\n",
              "      <td>9717</td>\n",
              "      <td>814</td>\n",
              "      <td>NaN</td>\n",
              "      <td>NaN</td>\n",
              "    </tr>\n",
              "    <tr>\n",
              "      <th>34</th>\n",
              "      <td>Fri, Nov 14</td>\n",
              "      <td>9192</td>\n",
              "      <td>735</td>\n",
              "      <td>NaN</td>\n",
              "      <td>NaN</td>\n",
              "    </tr>\n",
              "    <tr>\n",
              "      <th>35</th>\n",
              "      <td>Sat, Nov 15</td>\n",
              "      <td>8630</td>\n",
              "      <td>743</td>\n",
              "      <td>NaN</td>\n",
              "      <td>NaN</td>\n",
              "    </tr>\n",
              "    <tr>\n",
              "      <th>36</th>\n",
              "      <td>Sun, Nov 16</td>\n",
              "      <td>8970</td>\n",
              "      <td>722</td>\n",
              "      <td>NaN</td>\n",
              "      <td>NaN</td>\n",
              "    </tr>\n",
              "  </tbody>\n",
              "</table>\n",
              "</div>"
            ],
            "text/plain": [
              "           Date  Pageviews  Clicks  Enrollments  Payments\n",
              "23   Mon, Nov 3       9437     788          NaN       NaN\n",
              "24   Tue, Nov 4       9420     781          NaN       NaN\n",
              "25   Wed, Nov 5       9570     805          NaN       NaN\n",
              "26   Thu, Nov 6       9921     830          NaN       NaN\n",
              "27   Fri, Nov 7       9424     781          NaN       NaN\n",
              "28   Sat, Nov 8       9010     756          NaN       NaN\n",
              "29   Sun, Nov 9       9656     825          NaN       NaN\n",
              "30  Mon, Nov 10      10419     874          NaN       NaN\n",
              "31  Tue, Nov 11       9880     830          NaN       NaN\n",
              "32  Wed, Nov 12      10134     801          NaN       NaN\n",
              "33  Thu, Nov 13       9717     814          NaN       NaN\n",
              "34  Fri, Nov 14       9192     735          NaN       NaN\n",
              "35  Sat, Nov 15       8630     743          NaN       NaN\n",
              "36  Sun, Nov 16       8970     722          NaN       NaN"
            ]
          },
          "metadata": {
            "tags": []
          },
          "execution_count": 11
        }
      ]
    },
    {
      "cell_type": "code",
      "metadata": {
        "colab": {
          "base_uri": "https://localhost:8080/",
          "height": 359
        },
        "id": "3wVz_MvGgmbp",
        "outputId": "2909de17-43f0-41fa-9f4f-67674141bbc1"
      },
      "source": [
        "# Combine with Experiment data\r\n",
        "data_total = pd.concat([control_data, experiment_data])\r\n",
        "data_total.sample(10)"
      ],
      "execution_count": 12,
      "outputs": [
        {
          "output_type": "execute_result",
          "data": {
            "text/html": [
              "<div>\n",
              "<style scoped>\n",
              "    .dataframe tbody tr th:only-of-type {\n",
              "        vertical-align: middle;\n",
              "    }\n",
              "\n",
              "    .dataframe tbody tr th {\n",
              "        vertical-align: top;\n",
              "    }\n",
              "\n",
              "    .dataframe thead th {\n",
              "        text-align: right;\n",
              "    }\n",
              "</style>\n",
              "<table border=\"1\" class=\"dataframe\">\n",
              "  <thead>\n",
              "    <tr style=\"text-align: right;\">\n",
              "      <th></th>\n",
              "      <th>Date</th>\n",
              "      <th>Pageviews</th>\n",
              "      <th>Clicks</th>\n",
              "      <th>Enrollments</th>\n",
              "      <th>Payments</th>\n",
              "    </tr>\n",
              "  </thead>\n",
              "  <tbody>\n",
              "    <tr>\n",
              "      <th>31</th>\n",
              "      <td>Tue, Nov 11</td>\n",
              "      <td>9931</td>\n",
              "      <td>831</td>\n",
              "      <td>NaN</td>\n",
              "      <td>NaN</td>\n",
              "    </tr>\n",
              "    <tr>\n",
              "      <th>25</th>\n",
              "      <td>Wed, Nov 5</td>\n",
              "      <td>9570</td>\n",
              "      <td>805</td>\n",
              "      <td>NaN</td>\n",
              "      <td>NaN</td>\n",
              "    </tr>\n",
              "    <tr>\n",
              "      <th>22</th>\n",
              "      <td>Sun, Nov 2</td>\n",
              "      <td>8836</td>\n",
              "      <td>724</td>\n",
              "      <td>182.0</td>\n",
              "      <td>103.0</td>\n",
              "    </tr>\n",
              "    <tr>\n",
              "      <th>6</th>\n",
              "      <td>Fri, Oct 17</td>\n",
              "      <td>9088</td>\n",
              "      <td>780</td>\n",
              "      <td>127.0</td>\n",
              "      <td>44.0</td>\n",
              "    </tr>\n",
              "    <tr>\n",
              "      <th>16</th>\n",
              "      <td>Mon, Oct 27</td>\n",
              "      <td>9655</td>\n",
              "      <td>771</td>\n",
              "      <td>213.0</td>\n",
              "      <td>119.0</td>\n",
              "    </tr>\n",
              "    <tr>\n",
              "      <th>3</th>\n",
              "      <td>Tue, Oct 14</td>\n",
              "      <td>9871</td>\n",
              "      <td>836</td>\n",
              "      <td>156.0</td>\n",
              "      <td>105.0</td>\n",
              "    </tr>\n",
              "    <tr>\n",
              "      <th>30</th>\n",
              "      <td>Mon, Nov 10</td>\n",
              "      <td>10445</td>\n",
              "      <td>851</td>\n",
              "      <td>NaN</td>\n",
              "      <td>NaN</td>\n",
              "    </tr>\n",
              "    <tr>\n",
              "      <th>9</th>\n",
              "      <td>Mon, Oct 20</td>\n",
              "      <td>10667</td>\n",
              "      <td>861</td>\n",
              "      <td>165.0</td>\n",
              "      <td>97.0</td>\n",
              "    </tr>\n",
              "    <tr>\n",
              "      <th>35</th>\n",
              "      <td>Sat, Nov 15</td>\n",
              "      <td>8630</td>\n",
              "      <td>743</td>\n",
              "      <td>NaN</td>\n",
              "      <td>NaN</td>\n",
              "    </tr>\n",
              "    <tr>\n",
              "      <th>10</th>\n",
              "      <td>Tue, Oct 21</td>\n",
              "      <td>10660</td>\n",
              "      <td>867</td>\n",
              "      <td>196.0</td>\n",
              "      <td>105.0</td>\n",
              "    </tr>\n",
              "  </tbody>\n",
              "</table>\n",
              "</div>"
            ],
            "text/plain": [
              "           Date  Pageviews  Clicks  Enrollments  Payments\n",
              "31  Tue, Nov 11       9931     831          NaN       NaN\n",
              "25   Wed, Nov 5       9570     805          NaN       NaN\n",
              "22   Sun, Nov 2       8836     724        182.0     103.0\n",
              "6   Fri, Oct 17       9088     780        127.0      44.0\n",
              "16  Mon, Oct 27       9655     771        213.0     119.0\n",
              "3   Tue, Oct 14       9871     836        156.0     105.0\n",
              "30  Mon, Nov 10      10445     851          NaN       NaN\n",
              "9   Mon, Oct 20      10667     861        165.0      97.0\n",
              "35  Sat, Nov 15       8630     743          NaN       NaN\n",
              "10  Tue, Oct 21      10660     867        196.0     105.0"
            ]
          },
          "metadata": {
            "tags": []
          },
          "execution_count": 12
        }
      ]
    },
    {
      "cell_type": "code",
      "metadata": {
        "id": "pQy9saWz39jV"
      },
      "source": [
        "import numpy as np\r\n",
        "np.random.seed(7)\r\n",
        "import sklearn.utils\r\n",
        "\r\n",
        "# Add row id\r\n",
        "data_total['row_id'] = data_total.index\r\n",
        "\r\n",
        "# Create a Day of Week feature\r\n",
        "data_total['DOW'] = data_total['Date'].str.slice(start=0, stop=3)\r\n",
        "\r\n",
        "# Remove missing data\r\n",
        "data_total.dropna(inplace=True)\r\n",
        "\r\n",
        "# Add a binary column Experiment to denote\r\n",
        "# if the data was part of the experiment or not (Random)\r\n",
        "data_total['Experiment'] = np.random.randint(2, size=len(data_total))\r\n",
        "\r\n",
        "# Remove missing data\r\n",
        "data_total.dropna(inplace=True)\r\n",
        "\r\n",
        "# Remove Date and Payments columns\r\n",
        "del data_total['Date'], data_total['Payments']\r\n",
        "\r\n",
        "# Shuffle the data\r\n",
        "data_total = sklearn.utils.shuffle(data_total)"
      ],
      "execution_count": 13,
      "outputs": []
    },
    {
      "cell_type": "code",
      "metadata": {
        "colab": {
          "base_uri": "https://localhost:8080/",
          "height": 204
        },
        "id": "-oDCfpmu4AI0",
        "outputId": "a47278f8-56a6-4042-ee15-72b03fd3dc42"
      },
      "source": [
        "# Check the new data\r\n",
        "data_total.head()"
      ],
      "execution_count": 14,
      "outputs": [
        {
          "output_type": "execute_result",
          "data": {
            "text/html": [
              "<div>\n",
              "<style scoped>\n",
              "    .dataframe tbody tr th:only-of-type {\n",
              "        vertical-align: middle;\n",
              "    }\n",
              "\n",
              "    .dataframe tbody tr th {\n",
              "        vertical-align: top;\n",
              "    }\n",
              "\n",
              "    .dataframe thead th {\n",
              "        text-align: right;\n",
              "    }\n",
              "</style>\n",
              "<table border=\"1\" class=\"dataframe\">\n",
              "  <thead>\n",
              "    <tr style=\"text-align: right;\">\n",
              "      <th></th>\n",
              "      <th>Pageviews</th>\n",
              "      <th>Clicks</th>\n",
              "      <th>Enrollments</th>\n",
              "      <th>row_id</th>\n",
              "      <th>DOW</th>\n",
              "      <th>Experiment</th>\n",
              "    </tr>\n",
              "  </thead>\n",
              "  <tbody>\n",
              "    <tr>\n",
              "      <th>21</th>\n",
              "      <td>8460</td>\n",
              "      <td>681</td>\n",
              "      <td>156.0</td>\n",
              "      <td>21</td>\n",
              "      <td>Sat</td>\n",
              "      <td>0</td>\n",
              "    </tr>\n",
              "    <tr>\n",
              "      <th>3</th>\n",
              "      <td>9867</td>\n",
              "      <td>827</td>\n",
              "      <td>138.0</td>\n",
              "      <td>3</td>\n",
              "      <td>Tue</td>\n",
              "      <td>1</td>\n",
              "    </tr>\n",
              "    <tr>\n",
              "      <th>21</th>\n",
              "      <td>8448</td>\n",
              "      <td>695</td>\n",
              "      <td>142.0</td>\n",
              "      <td>21</td>\n",
              "      <td>Sat</td>\n",
              "      <td>0</td>\n",
              "    </tr>\n",
              "    <tr>\n",
              "      <th>13</th>\n",
              "      <td>9434</td>\n",
              "      <td>673</td>\n",
              "      <td>220.0</td>\n",
              "      <td>13</td>\n",
              "      <td>Fri</td>\n",
              "      <td>1</td>\n",
              "    </tr>\n",
              "    <tr>\n",
              "      <th>6</th>\n",
              "      <td>9008</td>\n",
              "      <td>748</td>\n",
              "      <td>146.0</td>\n",
              "      <td>6</td>\n",
              "      <td>Fri</td>\n",
              "      <td>1</td>\n",
              "    </tr>\n",
              "  </tbody>\n",
              "</table>\n",
              "</div>"
            ],
            "text/plain": [
              "    Pageviews  Clicks  Enrollments  row_id  DOW  Experiment\n",
              "21       8460     681        156.0      21  Sat           0\n",
              "3        9867     827        138.0       3  Tue           1\n",
              "21       8448     695        142.0      21  Sat           0\n",
              "13       9434     673        220.0      13  Fri           1\n",
              "6        9008     748        146.0       6  Fri           1"
            ]
          },
          "metadata": {
            "tags": []
          },
          "execution_count": 14
        }
      ]
    },
    {
      "cell_type": "code",
      "metadata": {
        "id": "asrBK6XL4Ezk"
      },
      "source": [
        "# Reorder the columns \r\n",
        "data_total = data_total[['row_id', 'Experiment', 'Pageviews', 'Clicks', 'DOW', 'Enrollments']]"
      ],
      "execution_count": 16,
      "outputs": []
    },
    {
      "cell_type": "code",
      "metadata": {
        "id": "KL_mB9TA4IVn"
      },
      "source": [
        "# Splitting the data\r\n",
        "from sklearn.model_selection import train_test_split\r\n",
        "\r\n",
        "X_train, X_test, y_train, y_test = train_test_split(data_total.loc[:, data_total.columns != 'Enrollments'],\\\r\n",
        "                                                    data_total['Enrollments'], test_size=0.2)"
      ],
      "execution_count": 17,
      "outputs": []
    },
    {
      "cell_type": "code",
      "metadata": {
        "id": "_kNdHrks4OwV"
      },
      "source": [
        "# Converting strings to numbers\r\n",
        "from sklearn.preprocessing import LabelEncoder\r\n",
        "\r\n",
        "lb = LabelEncoder()\r\n",
        "X_train['DOW'] = lb.fit_transform(X_train['DOW'])\r\n",
        "X_test['DOW'] = lb.transform(X_test['DOW'])"
      ],
      "execution_count": 18,
      "outputs": []
    },
    {
      "cell_type": "code",
      "metadata": {
        "colab": {
          "base_uri": "https://localhost:8080/",
          "height": 204
        },
        "id": "sudpjUr-4RZu",
        "outputId": "cf459974-02e2-42b3-cb0b-d7fa5595d59e"
      },
      "source": [
        "X_train.head()"
      ],
      "execution_count": 19,
      "outputs": [
        {
          "output_type": "execute_result",
          "data": {
            "text/html": [
              "<div>\n",
              "<style scoped>\n",
              "    .dataframe tbody tr th:only-of-type {\n",
              "        vertical-align: middle;\n",
              "    }\n",
              "\n",
              "    .dataframe tbody tr th {\n",
              "        vertical-align: top;\n",
              "    }\n",
              "\n",
              "    .dataframe thead th {\n",
              "        text-align: right;\n",
              "    }\n",
              "</style>\n",
              "<table border=\"1\" class=\"dataframe\">\n",
              "  <thead>\n",
              "    <tr style=\"text-align: right;\">\n",
              "      <th></th>\n",
              "      <th>row_id</th>\n",
              "      <th>Experiment</th>\n",
              "      <th>Pageviews</th>\n",
              "      <th>Clicks</th>\n",
              "      <th>DOW</th>\n",
              "    </tr>\n",
              "  </thead>\n",
              "  <tbody>\n",
              "    <tr>\n",
              "      <th>16</th>\n",
              "      <td>16</td>\n",
              "      <td>0</td>\n",
              "      <td>9535</td>\n",
              "      <td>759</td>\n",
              "      <td>1</td>\n",
              "    </tr>\n",
              "    <tr>\n",
              "      <th>10</th>\n",
              "      <td>10</td>\n",
              "      <td>1</td>\n",
              "      <td>10551</td>\n",
              "      <td>864</td>\n",
              "      <td>5</td>\n",
              "    </tr>\n",
              "    <tr>\n",
              "      <th>2</th>\n",
              "      <td>2</td>\n",
              "      <td>0</td>\n",
              "      <td>10480</td>\n",
              "      <td>884</td>\n",
              "      <td>1</td>\n",
              "    </tr>\n",
              "    <tr>\n",
              "      <th>3</th>\n",
              "      <td>3</td>\n",
              "      <td>1</td>\n",
              "      <td>9867</td>\n",
              "      <td>827</td>\n",
              "      <td>5</td>\n",
              "    </tr>\n",
              "    <tr>\n",
              "      <th>16</th>\n",
              "      <td>16</td>\n",
              "      <td>0</td>\n",
              "      <td>9655</td>\n",
              "      <td>771</td>\n",
              "      <td>1</td>\n",
              "    </tr>\n",
              "  </tbody>\n",
              "</table>\n",
              "</div>"
            ],
            "text/plain": [
              "    row_id  Experiment  Pageviews  Clicks  DOW\n",
              "16      16           0       9535     759    1\n",
              "10      10           1      10551     864    5\n",
              "2        2           0      10480     884    1\n",
              "3        3           1       9867     827    5\n",
              "16      16           0       9655     771    1"
            ]
          },
          "metadata": {
            "tags": []
          },
          "execution_count": 19
        }
      ]
    },
    {
      "cell_type": "code",
      "metadata": {
        "colab": {
          "base_uri": "https://localhost:8080/",
          "height": 204
        },
        "id": "OO5m9_YP4Uyc",
        "outputId": "15cdf749-c332-4bbc-f382-7fa2900899a0"
      },
      "source": [
        "X_test.head()"
      ],
      "execution_count": 20,
      "outputs": [
        {
          "output_type": "execute_result",
          "data": {
            "text/html": [
              "<div>\n",
              "<style scoped>\n",
              "    .dataframe tbody tr th:only-of-type {\n",
              "        vertical-align: middle;\n",
              "    }\n",
              "\n",
              "    .dataframe tbody tr th {\n",
              "        vertical-align: top;\n",
              "    }\n",
              "\n",
              "    .dataframe thead th {\n",
              "        text-align: right;\n",
              "    }\n",
              "</style>\n",
              "<table border=\"1\" class=\"dataframe\">\n",
              "  <thead>\n",
              "    <tr style=\"text-align: right;\">\n",
              "      <th></th>\n",
              "      <th>row_id</th>\n",
              "      <th>Experiment</th>\n",
              "      <th>Pageviews</th>\n",
              "      <th>Clicks</th>\n",
              "      <th>DOW</th>\n",
              "    </tr>\n",
              "  </thead>\n",
              "  <tbody>\n",
              "    <tr>\n",
              "      <th>12</th>\n",
              "      <td>12</td>\n",
              "      <td>0</td>\n",
              "      <td>8324</td>\n",
              "      <td>665</td>\n",
              "      <td>4</td>\n",
              "    </tr>\n",
              "    <tr>\n",
              "      <th>18</th>\n",
              "      <td>18</td>\n",
              "      <td>1</td>\n",
              "      <td>9262</td>\n",
              "      <td>727</td>\n",
              "      <td>6</td>\n",
              "    </tr>\n",
              "    <tr>\n",
              "      <th>1</th>\n",
              "      <td>1</td>\n",
              "      <td>0</td>\n",
              "      <td>9288</td>\n",
              "      <td>785</td>\n",
              "      <td>3</td>\n",
              "    </tr>\n",
              "    <tr>\n",
              "      <th>1</th>\n",
              "      <td>1</td>\n",
              "      <td>0</td>\n",
              "      <td>9102</td>\n",
              "      <td>779</td>\n",
              "      <td>3</td>\n",
              "    </tr>\n",
              "    <tr>\n",
              "      <th>19</th>\n",
              "      <td>19</td>\n",
              "      <td>0</td>\n",
              "      <td>9345</td>\n",
              "      <td>734</td>\n",
              "      <td>4</td>\n",
              "    </tr>\n",
              "  </tbody>\n",
              "</table>\n",
              "</div>"
            ],
            "text/plain": [
              "    row_id  Experiment  Pageviews  Clicks  DOW\n",
              "12      12           0       8324     665    4\n",
              "18      18           1       9262     727    6\n",
              "1        1           0       9288     785    3\n",
              "1        1           0       9102     779    3\n",
              "19      19           0       9345     734    4"
            ]
          },
          "metadata": {
            "tags": []
          },
          "execution_count": 20
        }
      ]
    },
    {
      "cell_type": "code",
      "metadata": {
        "id": "fiEXKaKFM5Zz"
      },
      "source": [
        "from sklearn.metrics import mean_squared_error, r2_score, mean_absolute_error\r\n",
        "\r\n",
        "def calculate_metrics(y_test, y_preds):\r\n",
        "    rmse = np.sqrt(mean_squared_error(y_test, y_preds))\r\n",
        "    r_sq = r2_score(y_test, y_preds)\r\n",
        "    mae = mean_absolute_error(y_test, y_preds)\r\n",
        "\r\n",
        "    print('RMSE Score: {}'.format(rmse))\r\n",
        "    print('R2_Squared: {}'.format(r_sq))\r\n",
        "    print('MAE Score: {}'.format(mae))"
      ],
      "execution_count": 40,
      "outputs": []
    },
    {
      "cell_type": "code",
      "metadata": {
        "id": "oJ2ggAjYM6g6"
      },
      "source": [
        "import matplotlib.pyplot as plt\r\n",
        "\r\n",
        "plt.style.use('ggplot')\r\n",
        "%matplotlib inline\r\n",
        "\r\n",
        "def plot_preds(y_test, y_preds, model_name):\r\n",
        "    N = len(y_test)\r\n",
        "    plt.figure(figsize=(10,5))\r\n",
        "    original = plt.scatter(np.arange(1, N+1), y_test, c='blue')\r\n",
        "    prediction = plt.scatter(np.arange(1, N+1), y_preds, c='red')\r\n",
        "    plt.xticks(np.arange(1, N+1))\r\n",
        "    plt.xlabel('# Oberservation')\r\n",
        "    plt.ylabel('Enrollments')\r\n",
        "    title = 'True labels vs. Predicted Labels ({})'.format(model_name)\r\n",
        "    plt.title(title)\r\n",
        "    plt.legend((original, prediction), ('Original', 'Prediction'))\r\n",
        "    plt.show()"
      ],
      "execution_count": 41,
      "outputs": []
    },
    {
      "cell_type": "code",
      "metadata": {
        "id": "fw_jIeZz4gyN"
      },
      "source": [
        "import statsmodels.api as sm\r\n",
        "import sklearn.metrics as metrics\r\n",
        "X_train_refined = X_train.drop(columns=['row_id'], axis=1)\r\n",
        "linear_regression = sm.OLS(y_train, X_train_refined)\r\n",
        "linear_regression = linear_regression.fit()"
      ],
      "execution_count": 32,
      "outputs": []
    },
    {
      "cell_type": "code",
      "metadata": {
        "id": "t_RX1sSq4kK7"
      },
      "source": [
        "X_test_refined = X_test.drop(columns=['row_id'], axis=1)\r\n",
        "y_preds = linear_regression.predict(X_test_refined)"
      ],
      "execution_count": 34,
      "outputs": []
    },
    {
      "cell_type": "code",
      "metadata": {
        "colab": {
          "base_uri": "https://localhost:8080/"
        },
        "id": "hWmytmt7NSGD",
        "outputId": "7eb7985d-1d70-497f-80d3-9b1d588bd7f8"
      },
      "source": [
        "calculate_metrics(y_test, y_preds)"
      ],
      "execution_count": 42,
      "outputs": [
        {
          "output_type": "stream",
          "text": [
            "RMSE Score: 26.8540034259326\n",
            "R2_Squared: -0.1892893660531696\n",
            "MAE Score: 21.78333333333333\n"
          ],
          "name": "stdout"
        }
      ]
    },
    {
      "cell_type": "code",
      "metadata": {
        "colab": {
          "base_uri": "https://localhost:8080/",
          "height": 354
        },
        "id": "Zn7S_MAyNTBS",
        "outputId": "7387a085-f0e0-4e66-cb33-8b3258d4b714"
      },
      "source": [
        "plot_preds(y_test, y_preds, 'Linear Regression')"
      ],
      "execution_count": 43,
      "outputs": [
        {
          "output_type": "display_data",
          "data": {
            "image/png": "[encoded data removed]",
            "text/plain": [
              "<Figure size 720x360 with 1 Axes>"
            ]
          },
          "metadata": {
            "tags": [],
            "needs_background": "light"
          }
        }
      ]
    },
    {
      "cell_type": "code",
      "metadata": {
        "colab": {
          "base_uri": "https://localhost:8080/"
        },
        "id": "3mtVBAo06v0p",
        "outputId": "0b68f6eb-d847-4a0f-cea3-ed124d1a3b6e"
      },
      "source": [
        "print(linear_regression.summary())"
      ],
      "execution_count": 26,
      "outputs": [
        {
          "output_type": "stream",
          "text": [
            "                                 OLS Regression Results                                \n",
            "=======================================================================================\n",
            "Dep. Variable:            Enrollments   R-squared (uncentered):                   0.980\n",
            "Model:                            OLS   Adj. R-squared (uncentered):              0.978\n",
            "Method:                 Least Squares   F-statistic:                              400.1\n",
            "Date:                Mon, 15 Mar 2021   Prob (F-statistic):                    7.92e-27\n",
            "Time:                        08:46:59   Log-Likelihood:                         -163.65\n",
            "No. Observations:                  36   AIC:                                      335.3\n",
            "Df Residuals:                      32   BIC:                                      341.6\n",
            "Df Model:                           4                                                  \n",
            "Covariance Type:            nonrobust                                                  \n",
            "==============================================================================\n",
            "                 coef    std err          t      P>|t|      [0.025      0.975]\n",
            "------------------------------------------------------------------------------\n",
            "Experiment    -1.4515      8.373     -0.173      0.863     -18.506      15.603\n",
            "Pageviews      0.0672      0.010      6.593      0.000       0.046       0.088\n",
            "Clicks        -0.6022      0.126     -4.776      0.000      -0.859      -0.345\n",
            "DOW           -2.6156      2.137     -1.224      0.230      -6.969       1.738\n",
            "==============================================================================\n",
            "Omnibus:                        3.688   Durbin-Watson:                   2.146\n",
            "Prob(Omnibus):                  0.158   Jarque-Bera (JB):                2.538\n",
            "Skew:                           0.475   Prob(JB):                        0.281\n",
            "Kurtosis:                       2.112   Cond. No.                     1.95e+04\n",
            "==============================================================================\n",
            "\n",
            "Warnings:\n",
            "[1] Standard Errors assume that the covariance matrix of the errors is correctly specified.\n",
            "[2] The condition number is large, 1.95e+04. This might indicate that there are\n",
            "strong multicollinearity or other numerical problems.\n"
          ],
          "name": "stdout"
        }
      ]
    },
    {
      "cell_type": "code",
      "metadata": {
        "colab": {
          "base_uri": "https://localhost:8080/",
          "height": 597
        },
        "id": "pCTD7MsN6wWY",
        "outputId": "4b967634-a497-41d9-82b6-e97559409d00"
      },
      "source": [
        "from sklearn.externals.six import StringIO  \r\n",
        "from IPython.display import Image  \r\n",
        "from sklearn.tree import export_graphviz\r\n",
        "import pydotplus\r\n",
        "\r\n",
        "dot_data = StringIO()\r\n",
        "\r\n",
        "export_graphviz(dtree, out_file=dot_data, \r\n",
        "                feature_names=X_train_refined.columns,\r\n",
        "                filled=True, rounded=True,\r\n",
        "                special_characters=True)\r\n",
        "\r\n",
        "graph = pydotplus.graph_from_dot_data(dot_data.getvalue())  \r\n",
        "Image(graph.create_png())"
      ],
      "execution_count": 38,
      "outputs": [
        {
          "output_type": "stream",
          "text": [
            "/usr/local/lib/python3.7/dist-packages/sklearn/externals/six.py:31: FutureWarning: The module is deprecated in version 0.21 and will be removed in version 0.23 since we've dropped support for Python 2.7. Please rely on the official version of six (https://pypi.org/project/six/).\n",
            "  \"(https://pypi.org/project/six/).\", FutureWarning)\n"
          ],
          "name": "stderr"
        },
        {
          "output_type": "execute_result",
          "data": {
            "image/png": "[encoded data removed]",
            "text/plain": [
              "<IPython.core.display.Image object>"
            ]
          },
          "metadata": {
            "tags": []
          },
          "execution_count": 38
        }
      ]
    },
    {
      "cell_type": "markdown",
      "metadata": {
        "id": "EG3c5i2nDT7W"
      },
      "source": [
        "# New Section"
      ]
    }
  ]
}